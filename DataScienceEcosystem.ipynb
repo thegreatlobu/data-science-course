{
 "cells": [
  {
   "cell_type": "markdown",
   "id": "b5134347-5d6e-4125-8f96-efa31dd6f503",
   "metadata": {},
   "source": [
    "# Data Science Tools and Ecosystem"
   ]
  },
  {
   "cell_type": "markdown",
   "id": "d624016c-0f59-4584-93e7-c6103d52389c",
   "metadata": {},
   "source": [
    "## Author\n",
    "Kalash"
   ]
  },
  {
   "cell_type": "markdown",
   "id": "801e2b7e-4b1d-4057-81ca-eea9be6e9727",
   "metadata": {},
   "source": [
    "In this notebook, Data Science Tools and Ecosystem are summarized."
   ]
  },
  {
   "cell_type": "markdown",
   "id": "a8399ce6-a078-4577-972f-963d3ed766f7",
   "metadata": {},
   "source": [
    "**Objectives**:\n",
    "\n",
    "- List popular languages\n",
    "- List commonly used libraries\n",
    "- List examples of arithmetic expressions"
   ]
  },
  {
   "cell_type": "markdown",
   "id": "03438c16-f5de-445e-8c9c-6f1a7a3318ba",
   "metadata": {},
   "source": [
    "Some of the popular languages that Data Scientists used are,\n",
    "\n",
    "1. Python\n",
    "2. C++\n",
    "3. R"
   ]
  },
  {
   "cell_type": "markdown",
   "id": "d4937599-affd-4df9-95f1-a77bb05eea57",
   "metadata": {},
   "source": [
    "Some of the commonly used libraries used by Data Scientists are,\n",
    "\n",
    "1. numpy\n",
    "2. pandas\n",
    "3. matplotlib"
   ]
  },
  {
   "cell_type": "markdown",
   "id": "4a8db7d5-4ba5-4087-b6be-edbcfa7f3b45",
   "metadata": {},
   "source": [
    " | Data Science Tools |\n",
    " |  ---- |\n",
    " | Pycharm |\n",
    " | Rstudio |\n",
    " | Apache Spark |\n"
   ]
  },
  {
   "cell_type": "markdown",
   "id": "970a4abc-d89f-479e-b30e-a37dff331496",
   "metadata": {},
   "source": [
    "### Below are a few examples of evaluating arithmetic expressions in Python"
   ]
  },
  {
   "cell_type": "code",
   "execution_count": 1,
   "id": "dacfcf66-bed3-4228-8262-ed219c3afa92",
   "metadata": {},
   "outputs": [
    {
     "data": {
      "text/plain": [
       "17"
      ]
     },
     "execution_count": 1,
     "metadata": {},
     "output_type": "execute_result"
    }
   ],
   "source": [
    "# This a simple arithmetic expression to multiply then add integers\n",
    "(3*4) + 5"
   ]
  },
  {
   "cell_type": "code",
   "execution_count": 2,
   "id": "7801d055-f6a0-4d05-aaca-6ae687287484",
   "metadata": {},
   "outputs": [
    {
     "data": {
      "text/plain": [
       "3.3333333333333335"
      ]
     },
     "execution_count": 2,
     "metadata": {},
     "output_type": "execute_result"
    }
   ],
   "source": [
    "# This will convert 200 minutes to hours by diving by 60\n",
    "200 / 60"
   ]
  },
  {
   "cell_type": "code",
   "execution_count": null,
   "id": "4b71bc94-5ed9-4bd0-ad23-8d2f9dcfd2fb",
   "metadata": {},
   "outputs": [],
   "source": []
  }
 ],
 "metadata": {
  "kernelspec": {
   "display_name": "Python 3 (ipykernel)",
   "language": "python",
   "name": "python3"
  },
  "language_info": {
   "codemirror_mode": {
    "name": "ipython",
    "version": 3
   },
   "file_extension": ".py",
   "mimetype": "text/x-python",
   "name": "python",
   "nbconvert_exporter": "python",
   "pygments_lexer": "ipython3",
   "version": "3.11.9"
  }
 },
 "nbformat": 4,
 "nbformat_minor": 5
}
